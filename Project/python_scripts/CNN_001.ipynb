{
 "cells": [
  {
   "cell_type": "code",
   "execution_count": 140,
   "id": "016ea90a",
   "metadata": {},
   "outputs": [],
   "source": [
    "import torch\n",
    "import torchvision\n",
    "import torchvision.transforms as transforms\n",
    "import torch.nn as nn\n",
    "import torch.nn.functional as F\n",
    "from torch.utils.data import DataLoader, TensorDataset\n",
    "import torch.optim as optim\n",
    "\n",
    "import numpy as np\n",
    "from sklearn.model_selection import train_test_split\n"
   ]
  },
  {
   "cell_type": "code",
   "execution_count": 141,
   "id": "b422129a",
   "metadata": {},
   "outputs": [],
   "source": [
    "# REFERENCE:\n",
    "# https://pytorch.org/tutorials/beginner/blitz/cifar10_tutorial.html"
   ]
  },
  {
   "cell_type": "code",
   "execution_count": 142,
   "id": "1ea4e275",
   "metadata": {},
   "outputs": [
    {
     "data": {
      "text/plain": [
       "785"
      ]
     },
     "execution_count": 142,
     "metadata": {},
     "output_type": "execute_result"
    }
   ],
   "source": [
    "train_data_set = np.load(\"fashion_train.npy\")\n",
    "test_data_set = np.load(\"fashion_test.npy\")\n",
    "\n",
    "\n",
    "# We have 10000 images in the training set\n",
    "len(train_data_set)\n",
    "\n",
    "# To find classification for each element, the last value in the set is:\n",
    "# 0 for T-shirt/top\n",
    "# 1 for Trousers\n",
    "# 2 for Pullover\n",
    "# 3 for Dress\n",
    "# 4 for Shirt\n",
    "len(train_data_set[0])"
   ]
  },
  {
   "cell_type": "code",
   "execution_count": 152,
   "id": "414068a6",
   "metadata": {},
   "outputs": [],
   "source": [
    "# We need to clean the array, as the last value is the classification. Let's first save these separately.\n",
    "\n",
    "train_classes = []\n",
    "\n",
    "for i in range(len(train_data_set)):\n",
    "    train_classes.append(train_data_set[i][784])\n",
    "      \n",
    "train_classes = np.array(train_classes)\n",
    "#train_classes = train_classes.reshape(-1, 1)\n",
    "\n",
    "\n",
    "test_classes = []\n",
    "\n",
    "for i in range(len(test_data_set)):\n",
    "    test_classes.append(test_data_set[i][784])\n",
    "      \n",
    "test_classes = np.array(test_classes)\n",
    "#test_classes = test_classes.reshape(-1, 1)"
   ]
  },
  {
   "cell_type": "code",
   "execution_count": 153,
   "id": "957bff35",
   "metadata": {},
   "outputs": [],
   "source": [
    "# Now we can delete the last element and have a cleaned training set that we can work with.\n",
    "\n",
    "cleaned_train_set = np.empty((len(train_data_set), 784), dtype=np.uint8)\n",
    "\n",
    "for i in range(len(train_data_set)):\n",
    "    temp = np.delete(train_data_set[i], 784)\n",
    "    cleaned_train_set[i] = temp\n",
    "    \n",
    "    \n",
    "cleaned_test_set = np.empty((len(test_data_set), 784), dtype=np.uint8)\n",
    "\n",
    "for i in range(len(test_data_set)):\n",
    "    temp = np.delete(test_data_set[i], 784)\n",
    "    cleaned_test_set[i] = temp"
   ]
  },
  {
   "cell_type": "code",
   "execution_count": 154,
   "id": "c4393cff",
   "metadata": {},
   "outputs": [],
   "source": [
    "# We reshape it so that the 1D array becomes a 2D 28x28 array. \n",
    "# We also need to save the number of channels in the second value for our CNN to work.\n",
    "cleaned_train_set_reshaped = cleaned_train_set.reshape(-1, 1, 28, 28)\n",
    "cleaned_test_set_reshaped = cleaned_test_set.reshape(-1, 1, 28, 28)"
   ]
  },
  {
   "cell_type": "code",
   "execution_count": 155,
   "id": "52eb6351",
   "metadata": {},
   "outputs": [],
   "source": [
    "X_train, X_val, y_train, y_val = train_test_split(cleaned_train_set_reshaped, train_classes, test_size = 0.25)"
   ]
  },
  {
   "cell_type": "code",
   "execution_count": 156,
   "id": "c99b78fd",
   "metadata": {},
   "outputs": [],
   "source": [
    "X_train = torch.tensor(X_train, dtype=torch.float32)\n",
    "X_val = torch.tensor(X_val, dtype=torch.float32)\n",
    "X_test = torch.tensor(cleaned_test_set_reshaped, dtype=torch.float32)\n",
    "\n",
    "# Assuming the labels are available as y_train and y_val\n",
    "# Convert labels to PyTorch tensors\n",
    "y_train = torch.tensor(y_train, dtype=torch.long)\n",
    "y_val = torch.tensor(y_val, dtype=torch.long)\n",
    "y_test = torch.tensor(test_classes, dtype=torch.long)\n",
    "\n",
    "# Create TensorDataset\n",
    "train_dataset = TensorDataset(X_train, y_train)\n",
    "val_dataset = TensorDataset(X_val, y_val)\n",
    "test_dataset = TensorDataset(X_test, y_test)\n",
    "\n",
    "# Create DataLoader\n",
    "train_loader = DataLoader(train_dataset, batch_size=64, shuffle=True)\n",
    "val_loader = DataLoader(val_dataset, batch_size=64, shuffle=False)\n",
    "test_loader = DataLoader(test_dataset, batch_size=64, shuffle=False)"
   ]
  },
  {
   "cell_type": "code",
   "execution_count": 157,
   "id": "5de326ae",
   "metadata": {},
   "outputs": [],
   "source": [
    "class CNN(nn.Module):\n",
    "    def __init__(self):\n",
    "        super(CNN, self).__init__()\n",
    "        # Our convolutional layers\n",
    "        self.conv1 = nn.Conv2d(1, 32, 5, padding = 2) # Padding of 2 ensures that we keep the images at 28x28 with a kernel_size of 5\n",
    "        self.pool = nn.MaxPool2d(2, 2) # Pooling reduces the size of the image by half\n",
    "        self.conv2 = nn.Conv2d(32, 64, 5, padding = 2)\n",
    "        self.pool = nn.MaxPool2d(2, 2)\n",
    "        \n",
    "        self.fc1 = nn.Linear(64 * 7 * 7, 120)\n",
    "        self.fc2 = nn.Linear(120, 84)\n",
    "        self.fc3 = nn.Linear(84, 5)\n",
    "        \n",
    "\n",
    "    def forward(self, x):\n",
    "        '''\n",
    "        The forward function defines how our data flows through our convolution network, as defined above.\n",
    "        '''\n",
    "        x = self.pool(F.relu(self.conv1(x)))\n",
    "        x = self.pool(F.relu(self.conv2(x)))\n",
    "        \n",
    "        # PROBLEM SOLVING\n",
    "        # Check the shape before flattening\n",
    "        #print(f\"Shape before flattening: {x.shape}\")  # Debugging line\n",
    "        \n",
    "        x = torch.flatten(x, 1) # flatten all dimensions except batch\n",
    "        \n",
    "        # PROBLEM SOLVING\n",
    "        # Check the shape after flattening\n",
    "        #print(f\"Shape after flattening: {x.shape}\")  # Debugging line\n",
    "        \n",
    "        x = F.relu(self.fc1(x))\n",
    "        x = F.relu(self.fc2(x))\n",
    "        x = self.fc3(x)\n",
    "        return x\n",
    "        \n",
    "\n",
    "# Initialize the model\n",
    "model = CNN()"
   ]
  },
  {
   "cell_type": "code",
   "execution_count": 158,
   "id": "3440ebb9",
   "metadata": {},
   "outputs": [
    {
     "name": "stdout",
     "output_type": "stream",
     "text": [
      "3136\n"
     ]
    }
   ],
   "source": [
    "# Little function for checking the correct shapes for the step to fc1\n",
    "def calculate_flattened_size(model, input_shape=(1, 1, 28, 28)):\n",
    "    x = torch.randn(input_shape)\n",
    "    x = model.pool(F.relu(model.conv1(x)))\n",
    "    x = model.pool(F.relu(model.conv2(x)))\n",
    "    return x.shape[1] * x.shape[2] * x.shape[3]\n",
    "\n",
    "flattened_size = calculate_flattened_size(model)\n",
    "print(flattened_size)\n",
    "#model.fc1 = nn.Linear(flattened_size, 120)"
   ]
  },
  {
   "cell_type": "code",
   "execution_count": 159,
   "id": "c83956e7",
   "metadata": {},
   "outputs": [],
   "source": [
    "criterion = nn.CrossEntropyLoss()\n",
    "optimizer = optim.SGD(model.parameters(), lr=0.001, momentum=0.9)       \n",
    "#optimizer = optim.Adam(model.parameters(), lr=0.001) # Adam does not use momentum"
   ]
  },
  {
   "cell_type": "code",
   "execution_count": 160,
   "id": "0033aead",
   "metadata": {
    "scrolled": false
   },
   "outputs": [
    {
     "name": "stdout",
     "output_type": "stream",
     "text": [
      "Epoch [1/100], Loss: 0.7744666351857832\n",
      "Validation Accuracy: 80.84%\n",
      "Epoch [2/100], Loss: 0.43438249131885626\n",
      "Validation Accuracy: 85.68%\n",
      "Epoch [3/100], Loss: 0.3600624624197766\n",
      "Validation Accuracy: 86.2%\n",
      "Epoch [4/100], Loss: 0.31353223475359254\n",
      "Validation Accuracy: 86.84%\n",
      "Epoch [5/100], Loss: 0.2917339265093965\n",
      "Validation Accuracy: 86.6%\n",
      "Epoch [6/100], Loss: 0.24746789871636082\n",
      "Validation Accuracy: 87.92%\n",
      "Epoch [7/100], Loss: 0.2207591801376666\n",
      "Validation Accuracy: 86.08%\n",
      "Epoch [8/100], Loss: 0.20706258480579165\n",
      "Validation Accuracy: 86.24%\n",
      "Epoch [9/100], Loss: 0.18510572096111916\n",
      "Validation Accuracy: 87.8%\n",
      "Epoch [10/100], Loss: 0.1678283881017212\n",
      "Validation Accuracy: 89.12%\n",
      "Epoch [11/100], Loss: 0.14624997162086478\n",
      "Validation Accuracy: 87.52%\n",
      "Epoch [12/100], Loss: 0.12194310824812973\n",
      "Validation Accuracy: 84.32%\n",
      "Epoch [13/100], Loss: 0.13750387801812425\n",
      "Validation Accuracy: 86.4%\n",
      "Epoch [14/100], Loss: 0.11183155907349566\n",
      "Validation Accuracy: 88.52%\n",
      "Epoch [15/100], Loss: 0.09509084390286925\n",
      "Validation Accuracy: 88.92%\n",
      "Getting a little impatient here\n",
      "Epoch [16/100], Loss: 0.08080452223608302\n",
      "Validation Accuracy: 88.04%\n",
      "Seriously, getting rather impatient\n",
      "Epoch [17/100], Loss: 0.06890358298353977\n",
      "Validation Accuracy: 86.72%\n",
      "I am getting seriously impatient...\n",
      "Epoch [18/100], Loss: 0.06128760863695357\n",
      "Validation Accuracy: 87.44%\n",
      "Now you're really testing me!\n",
      "Epoch [19/100], Loss: 0.05149010382987306\n",
      "Validation Accuracy: 87.16%\n",
      "My patience is done. Terminating\n",
      "Finished Training\n"
     ]
    }
   ],
   "source": [
    "total_epochs = 100\n",
    "patience = 5\n",
    "patience_reactions = ('','Getting a little impatient here','Seriously, getting rather impatient','I am getting seriously impatient...', 'Now you\\'re really testing me!', 'My patience is done. Terminating')\n",
    "patience_counter = 0\n",
    "\n",
    "for epoch in range(total_epochs):  # loop over the dataset multiple times\n",
    "    model.train()  # Set the model to training mode\n",
    "    running_loss = 0.0\n",
    "    \n",
    "    \n",
    "    for i, data in enumerate(train_loader, 0):\n",
    "        # get the inputs; data is a list of [inputs, labels]\n",
    "        inputs, labels = data\n",
    "        \n",
    "\n",
    "        # zero the parameter gradients\n",
    "        optimizer.zero_grad()\n",
    "\n",
    "        # forward + backward + optimize\n",
    "        outputs = model(inputs)\n",
    "        loss = criterion(outputs, labels)\n",
    "        loss.backward()\n",
    "        optimizer.step()\n",
    "\n",
    "        # print statistics\n",
    "        running_loss += loss.item()\n",
    "        if i % 2000 == 1999:    # print every 2000 mini-batches\n",
    "            print(f'[{epoch + 1}, {i + 1:5d}] loss: {running_loss / 2000:.3f}')\n",
    "            running_loss = 0.0\n",
    "    print(f\"Epoch [{epoch+1}/{total_epochs}], Loss: {running_loss/len(train_loader)}\")\n",
    "    \n",
    "    \n",
    "    # Validation phase\n",
    "    model.eval()  # Set the model to evaluation mode\n",
    "    correct = 0\n",
    "    total = 0\n",
    "    \n",
    "    with torch.no_grad():  # Don't compute gradients during validation\n",
    "        for inputs, labels in val_loader:\n",
    "            outputs = model(inputs)\n",
    "            _, predicted = torch.max(outputs, 1)\n",
    "            total += labels.size(0)\n",
    "            correct += (predicted == labels).sum().item()\n",
    "\n",
    "    print(f\"Validation Accuracy: {100 * correct / total}%\")\n",
    "    if running_loss/len(train_loader) < 0.1:\n",
    "        patience_counter += 1\n",
    "        print(patience_reactions[patience_counter])\n",
    "    if patience_counter == patience:\n",
    "        break\n",
    "\n",
    "print('Finished Training')"
   ]
  },
  {
   "cell_type": "code",
   "execution_count": null,
   "id": "0b2daa81",
   "metadata": {},
   "outputs": [],
   "source": [
    "# If we want to save our model, set a path:\n",
    "PATH = './fashion_cnn_model.pth'\n",
    "torch.save(model.state_dict(), PATH)"
   ]
  },
  {
   "cell_type": "code",
   "execution_count": 161,
   "id": "7c7d39bb",
   "metadata": {},
   "outputs": [],
   "source": [
    "classes = ('t-shirt/top', 'trousers', 'pullovers', 'dresses', 'shirts')"
   ]
  },
  {
   "cell_type": "markdown",
   "id": "40a64387",
   "metadata": {},
   "source": [
    "#### Class accuracy for validation data"
   ]
  },
  {
   "cell_type": "code",
   "execution_count": 162,
   "id": "d211a05f",
   "metadata": {},
   "outputs": [
    {
     "name": "stdout",
     "output_type": "stream",
     "text": [
      "Accuracy for class: t-shirt/top is 73.5 %\n",
      "Accuracy for class: trousers is 98.6 %\n",
      "Accuracy for class: pullovers is 89.1 %\n",
      "Accuracy for class: dresses is 90.9 %\n",
      "Accuracy for class: shirts is 83.8 %\n",
      "The combined accuracy of our model for validation data is: 87.2%\n"
     ]
    }
   ],
   "source": [
    "# prepare to count predictions for each class\n",
    "correct_pred = {classname: 0 for classname in classes}\n",
    "total_pred = {classname: 0 for classname in classes}\n",
    "\n",
    "# again no gradients needed\n",
    "with torch.no_grad():\n",
    "    for data in val_loader:\n",
    "        images, labels = data\n",
    "        outputs = model(images)\n",
    "        _, predictions = torch.max(outputs, 1)\n",
    "        # collect the correct predictions for each class\n",
    "        for label, prediction in zip(labels, predictions):\n",
    "            if label == prediction:\n",
    "                correct_pred[classes[label]] += 1\n",
    "            total_pred[classes[label]] += 1\n",
    "\n",
    "\n",
    "combined_accuracy = 0.0\n",
    "# print accuracy for each class\n",
    "for classname, correct_count in correct_pred.items():\n",
    "    accuracy = 100 * float(correct_count) / total_pred[classname]\n",
    "    print(f'Accuracy for class: {classname:5s} is {accuracy:.1f} %')\n",
    "    combined_accuracy += accuracy\n",
    "    \n",
    "combined_accuracy = combined_accuracy/5\n",
    "\n",
    "print(f'The combined accuracy of our model for validation data is: {combined_accuracy:.1f}%')"
   ]
  },
  {
   "cell_type": "markdown",
   "id": "6d8e249b",
   "metadata": {},
   "source": [
    "#### Class accuracy for test data"
   ]
  },
  {
   "cell_type": "code",
   "execution_count": 168,
   "id": "9c59de95",
   "metadata": {},
   "outputs": [
    {
     "name": "stdout",
     "output_type": "stream",
     "text": [
      "Accuracy for class: t-shirt/top is 72.2 %\n",
      "Accuracy for class: trousers is 98.1 %\n",
      "Accuracy for class: pullovers is 85.8 %\n",
      "Accuracy for class: dresses is 92.7 %\n",
      "Accuracy for class: shirts is 81.3 %\n",
      "The combined accuracy of our model for test data is: 86.0%\n"
     ]
    }
   ],
   "source": [
    "# prepare to count predictions for each class\n",
    "correct_pred = {classname: 0 for classname in classes}\n",
    "total_pred = {classname: 0 for classname in classes}\n",
    "\n",
    "# again no gradients needed\n",
    "with torch.no_grad():\n",
    "    for data in test_loader:\n",
    "        images, labels = data\n",
    "        outputs = model(images)\n",
    "        _, predictions = torch.max(outputs, 1)\n",
    "        # collect the correct predictions for each class\n",
    "        for label, prediction in zip(labels, predictions):\n",
    "            if label == prediction:\n",
    "                correct_pred[classes[label]] += 1\n",
    "            total_pred[classes[label]] += 1\n",
    "\n",
    "\n",
    "combined_accuracy = 0.0\n",
    "# print accuracy for each class\n",
    "for classname, correct_count in correct_pred.items():\n",
    "    accuracy = 100 * float(correct_count) / total_pred[classname]\n",
    "    print(f'Accuracy for class: {classname:5s} is {accuracy:.1f} %')\n",
    "    combined_accuracy += accuracy\n",
    "    \n",
    "    \n",
    "combined_accuracy = combined_accuracy/5\n",
    "\n",
    "print(f'The combined accuracy of our model for test data is: {combined_accuracy:.1f}%')"
   ]
  },
  {
   "cell_type": "code",
   "execution_count": null,
   "id": "ba463fa1",
   "metadata": {},
   "outputs": [],
   "source": []
  },
  {
   "cell_type": "code",
   "execution_count": 167,
   "id": "4cf24af2",
   "metadata": {},
   "outputs": [
    {
     "data": {
      "image/png": "[encoded data removed]",
      "text/plain": [
       "<Figure size 1200x700 with 2 Axes>"
      ]
     },
     "metadata": {},
     "output_type": "display_data"
    }
   ],
   "source": [
    "from sklearn.metrics import confusion_matrix\n",
    "import seaborn as sn\n",
    "import pandas as pd\n",
    "import matplotlib.pyplot as plt\n",
    "\n",
    "y_pred = []\n",
    "y_true = []\n",
    "\n",
    "# iterate over test data\n",
    "for inputs, labels in test_loader:\n",
    "        output = model(inputs) # Feed Network\n",
    "\n",
    "        output = (torch.max(torch.exp(output), 1)[1]).data.cpu().numpy()\n",
    "        y_pred.extend(output) # Save Prediction\n",
    "        \n",
    "        labels = labels.data.cpu().numpy()\n",
    "        y_true.extend(labels) # Save Truth\n",
    "\n",
    "\n",
    "# Build confusion matrix\n",
    "cf_matrix = confusion_matrix(y_true, y_pred)\n",
    "df_cm = pd.DataFrame(cf_matrix / np.sum(cf_matrix, axis=1)[:, None], index = [i for i in classes],\n",
    "                     columns = [i for i in classes])\n",
    "plt.figure(figsize = (12,7))\n",
    "sn.heatmap(df_cm, annot=True)\n",
    "plt.savefig('output.png')"
   ]
  }
 ],
 "metadata": {
  "kernelspec": {
   "display_name": "Python 3 (ipykernel)",
   "language": "python",
   "name": "python3"
  },
  "language_info": {
   "codemirror_mode": {
    "name": "ipython",
    "version": 3
   },
   "file_extension": ".py",
   "mimetype": "text/x-python",
   "name": "python",
   "nbconvert_exporter": "python",
   "pygments_lexer": "ipython3",
   "version": "3.11.5"
  }
 },
 "nbformat": 4,
 "nbformat_minor": 5
}
